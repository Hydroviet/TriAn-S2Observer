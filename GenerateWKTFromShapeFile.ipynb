{
 "cells": [
  {
   "cell_type": "markdown",
   "metadata": {},
   "source": [
    "## Tutorial - Visualize A shapefile"
   ]
  },
  {
   "cell_type": "code",
   "execution_count": 26,
   "metadata": {},
   "outputs": [],
   "source": [
    "import os\n",
    "# pandas package specialized for geospatial analysis\n",
    "import geopandas as gpd\n",
    "from matplotlib import pyplot as plt\n",
    "# draw everything within the notebook\n",
    "%matplotlib inline"
   ]
  },
  {
   "cell_type": "code",
   "execution_count": 27,
   "metadata": {},
   "outputs": [],
   "source": [
    "# shapefile path\n",
    "shapeFile = 'VN_Reservoirs.shp'\n",
    "df = gpd.read_file(shapeFile)"
   ]
  },
  {
   "cell_type": "code",
   "execution_count": 28,
   "metadata": {
    "scrolled": true
   },
   "outputs": [
    {
     "data": {
      "text/html": [
       "<div>\n",
       "<style scoped>\n",
       "    .dataframe tbody tr th:only-of-type {\n",
       "        vertical-align: middle;\n",
       "    }\n",
       "\n",
       "    .dataframe tbody tr th {\n",
       "        vertical-align: top;\n",
       "    }\n",
       "\n",
       "    .dataframe thead th {\n",
       "        text-align: right;\n",
       "    }\n",
       "</style>\n",
       "<table border=\"1\" class=\"dataframe\">\n",
       "  <thead>\n",
       "    <tr style=\"text-align: right;\">\n",
       "      <th></th>\n",
       "      <th>FID_AOI2_C</th>\n",
       "      <th>COUNTRY</th>\n",
       "      <th>ISO_CC</th>\n",
       "      <th>COUNTRYAFF</th>\n",
       "      <th>CONTINENT</th>\n",
       "      <th>Land_Type</th>\n",
       "      <th>Land_Rank</th>\n",
       "      <th>FID_GRanD_</th>\n",
       "      <th>GRAND_ID</th>\n",
       "      <th>AREA_SKM</th>\n",
       "      <th>POLY_SRC</th>\n",
       "      <th>geometry</th>\n",
       "    </tr>\n",
       "  </thead>\n",
       "  <tbody>\n",
       "    <tr>\n",
       "      <th>7</th>\n",
       "      <td>15</td>\n",
       "      <td>Vietnam</td>\n",
       "      <td>VN</td>\n",
       "      <td>Vietnam</td>\n",
       "      <td>Asia</td>\n",
       "      <td>Primary land</td>\n",
       "      <td>5</td>\n",
       "      <td>5802</td>\n",
       "      <td>5803</td>\n",
       "      <td>277.4</td>\n",
       "      <td>SWBD</td>\n",
       "      <td>POLYGON ((107.0371155463313 11.11694444444466,...</td>\n",
       "    </tr>\n",
       "  </tbody>\n",
       "</table>\n",
       "</div>"
      ],
      "text/plain": [
       "   FID_AOI2_C  COUNTRY ISO_CC COUNTRYAFF CONTINENT     Land_Type  Land_Rank  \\\n",
       "7          15  Vietnam     VN    Vietnam      Asia  Primary land          5   \n",
       "\n",
       "   FID_GRanD_  GRAND_ID  AREA_SKM POLY_SRC  \\\n",
       "7        5802      5803     277.4     SWBD   \n",
       "\n",
       "                                            geometry  \n",
       "7  POLYGON ((107.0371155463313 11.11694444444466,...  "
      ]
     },
     "execution_count": 28,
     "metadata": {},
     "output_type": "execute_result"
    }
   ],
   "source": [
    "plt.rcParams['figure.figsize'] = 5, 5\n",
    "ho_tri_an = df[df.AREA_SKM == 277.4]\n",
    "ho_tri_an"
   ]
  },
  {
   "cell_type": "code",
   "execution_count": 29,
   "metadata": {},
   "outputs": [],
   "source": [
    "from shapely.geometry import MultiPolygon, Polygon, shape\n",
    "import fiona"
   ]
  },
  {
   "cell_type": "code",
   "execution_count": 47,
   "metadata": {
    "scrolled": true
   },
   "outputs": [],
   "source": [
    "geom = ho_tri_an.geometry"
   ]
  },
  {
   "cell_type": "code",
   "execution_count": 79,
   "metadata": {},
   "outputs": [],
   "source": [
    "from shapely.geometry import shape, mapping, Polygon, MultiPolygon\n",
    "geom = mapping(ho_tri_an.geometry)\n",
    "s = shape(geom['features'][0]['geometry'])"
   ]
  },
  {
   "cell_type": "code",
   "execution_count": 80,
   "metadata": {},
   "outputs": [],
   "source": [
    "from shapely.wkt import dump as DumpPolygon, load as LoadPolygon\n",
    "DumpPolygon(s, open('trian_2.wkt', 'w'))"
   ]
  }
 ],
 "metadata": {
  "kernelspec": {
   "display_name": "Python 3",
   "language": "python",
   "name": "python3"
  },
  "language_info": {
   "codemirror_mode": {
    "name": "ipython",
    "version": 3
   },
   "file_extension": ".py",
   "mimetype": "text/x-python",
   "name": "python",
   "nbconvert_exporter": "python",
   "pygments_lexer": "ipython3",
   "version": "3.6.7"
  }
 },
 "nbformat": 4,
 "nbformat_minor": 2
}
